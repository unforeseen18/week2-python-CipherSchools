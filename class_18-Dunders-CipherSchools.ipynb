{
 "cells": [
  {
   "cell_type": "markdown",
   "metadata": {
    "colab_type": "text",
    "id": "view-in-github"
   },
   "source": [
    "<a href=\"https://colab.research.google.com/github/githubtanush/week2-Python-CipherSchools/blob/main/class18-Dunders-CipherSchools.ipynb\" target=\"_parent\"><img src=\"https://colab.research.google.com/assets/colab-badge.svg\" alt=\"Open In Colab\"/></a>"
   ]
  },
  {
   "cell_type": "code",
   "execution_count": 15,
   "metadata": {
    "colab": {
     "base_uri": "https://localhost:8080/"
    },
    "id": "xHBEnNH7jTsU",
    "outputId": "8c72ae00-7042-4a0d-fc34-1a3fa53edc99"
   },
   "outputs": [
    {
     "name": "stdout",
     "output_type": "stream",
     "text": [
      "hello, my name is Prajakta\n"
     ]
    }
   ],
   "source": [
    "# Dunders(magic methods)(event methods)\n",
    "#__<name of dunder>__\n",
    "class Person:\n",
    "  def __init__(self,name):\n",
    "    self.name=name\n",
    "  def say_hi(self):\n",
    "      print('hello, my name is',self.name)\n",
    "P=Person('Prajakta')\n",
    "P.say_hi()"
   ]
  },
  {
   "cell_type": "code",
   "execution_count": 16,
   "metadata": {
    "colab": {
     "base_uri": "https://localhost:8080/"
    },
    "id": "Ed2DbXxInMod",
    "outputId": "05378548-ee43-4fad-886e-a656f1cc7feb"
   },
   "outputs": [
    {
     "name": "stdout",
     "output_type": "stream",
     "text": [
      "<__main__.A object at 0x00000195502C6210>\n",
      "initialized\n"
     ]
    }
   ],
   "source": [
    "class A:\n",
    "  def __init__(self):\n",
    "    print(self)\n",
    "    print(\"initialized\")\n",
    "  def __del__(self):\n",
    "    print(self)\n",
    "    print(\"I am dying\")\n",
    "a=A()"
   ]
  },
  {
   "cell_type": "code",
   "execution_count": 17,
   "metadata": {
    "colab": {
     "base_uri": "https://localhost:8080/"
    },
    "id": "bTyPZKhqenYU",
    "outputId": "a2e8f340-3d04-4705-9010-17c007862f85"
   },
   "outputs": [
    {
     "name": "stdout",
     "output_type": "stream",
     "text": [
      "<__main__.A object at 0x00000195502C6210>\n",
      "I am dying\n",
      "<class 'int'>\n"
     ]
    },
    {
     "data": {
      "text/plain": [
       "6"
      ]
     },
     "execution_count": 17,
     "metadata": {},
     "output_type": "execute_result"
    }
   ],
   "source": [
    "a=1\n",
    "print(type(a))\n",
    "a+5\n",
    "a.__add__(5)"
   ]
  },
  {
   "cell_type": "code",
   "execution_count": 18,
   "metadata": {
    "colab": {
     "base_uri": "https://localhost:8080/",
     "height": 36
    },
    "id": "XgRIJ3fAezGr",
    "outputId": "070dded1-6199-4939-ec08-8b891d14414b"
   },
   "outputs": [
    {
     "data": {
      "text/plain": [
       "'PrajaktaPrajakta'"
      ]
     },
     "execution_count": 18,
     "metadata": {},
     "output_type": "execute_result"
    }
   ],
   "source": [
    "\"Prajakta\"*2"
   ]
  },
  {
   "cell_type": "code",
   "execution_count": 19,
   "metadata": {
    "colab": {
     "base_uri": "https://localhost:8080/",
     "height": 36
    },
    "id": "SU6GTRf-e4Cb",
    "outputId": "5a0a7de9-8c3a-4cba-e118-08ec7e4d0480"
   },
   "outputs": [
    {
     "data": {
      "text/plain": [
       "'PrajaktaPrajakta'"
      ]
     },
     "execution_count": 19,
     "metadata": {},
     "output_type": "execute_result"
    }
   ],
   "source": [
    "\"Prajakta\".__mul__(2)"
   ]
  },
  {
   "cell_type": "code",
   "execution_count": 20,
   "metadata": {
    "colab": {
     "base_uri": "https://localhost:8080/"
    },
    "id": "VfIplu_ynxbA",
    "outputId": "c9ad391f-6e1a-4252-a8c3-52cafa20061c"
   },
   "outputs": [
    {
     "data": {
      "text/plain": [
       "6"
      ]
     },
     "execution_count": 20,
     "metadata": {},
     "output_type": "execute_result"
    }
   ],
   "source": [
    "class A:\n",
    "  a=1\n",
    "  b=2\n",
    "\n",
    "  def __add__(self,x):\n",
    "    return self.a+self.b+x\n",
    "a=A()\n",
    "a+3"
   ]
  }
 ],
 "metadata": {
  "colab": {
   "include_colab_link": true,
   "provenance": []
  },
  "kernelspec": {
   "display_name": "Python 3 (ipykernel)",
   "language": "python",
   "name": "python3"
  },
  "language_info": {
   "codemirror_mode": {
    "name": "ipython",
    "version": 3
   },
   "file_extension": ".py",
   "mimetype": "text/x-python",
   "name": "python",
   "nbconvert_exporter": "python",
   "pygments_lexer": "ipython3",
   "version": "3.11.0"
  }
 },
 "nbformat": 4,
 "nbformat_minor": 1
}
