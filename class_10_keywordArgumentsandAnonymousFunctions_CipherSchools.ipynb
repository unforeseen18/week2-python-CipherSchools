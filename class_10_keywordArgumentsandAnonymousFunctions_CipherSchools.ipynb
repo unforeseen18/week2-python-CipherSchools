{
 "cells": [
  {
   "cell_type": "markdown",
   "metadata": {
    "colab_type": "text",
    "id": "view-in-github"
   },
   "source": [
    "<a href=\"https://colab.research.google.com/github/githubtanush/week2-Python-CipherSchools/blob/main/class10_keywordArgumentsandAnonymousFunctions_CipherSchools.ipynb\" target=\"_parent\"><img src=\"https://colab.research.google.com/assets/colab-badge.svg\" alt=\"Open In Colab\"/></a>"
   ]
  },
  {
   "cell_type": "code",
   "execution_count": 1,
   "metadata": {
    "colab": {
     "base_uri": "https://localhost:8080/"
    },
    "id": "Xmr3xtqR3EAn",
    "outputId": "c015789d-4d10-4caf-ac42-3ee7fe689a4b"
   },
   "outputs": [
    {
     "name": "stdout",
     "output_type": "stream",
     "text": [
      "a is 3 and b is  7 and c is  10\n",
      "a is 25 and b is  5 and c is  24\n",
      "a is 100 and b is  5 and c is  50\n"
     ]
    }
   ],
   "source": [
    "def func(a , b=5 , c=10):\n",
    "  print(\"a is\", a,'and b is ',b,'and c is ',c)\n",
    "func(3,7)\n",
    "func(25 ,c=24)\n",
    "func(c=50 ,a=100)\n",
    "     "
   ]
  },
  {
   "cell_type": "code",
   "execution_count": 2,
   "metadata": {
    "colab": {
     "base_uri": "https://localhost:8080/"
    },
    "id": "G79ZoN8g3M32",
    "outputId": "0ad07d81-de57-4edf-983c-24f397344276"
   },
   "outputs": [
    {
     "name": "stdout",
     "output_type": "stream",
     "text": [
      "1,2,3,4,5,6\n"
     ]
    }
   ],
   "source": [
    "print(1,2,3,4,5,6,sep=\",\")"
   ]
  },
  {
   "cell_type": "code",
   "execution_count": 3,
   "metadata": {
    "colab": {
     "base_uri": "https://localhost:8080/"
    },
    "id": "ohfpevhf3M6n",
    "outputId": "2e122498-1772-428f-b2cf-968075ae089c"
   },
   "outputs": [
    {
     "name": "stdout",
     "output_type": "stream",
     "text": [
      "1\n",
      "2\n",
      "3\n"
     ]
    }
   ],
   "source": [
    "def func(a,b,c):\n",
    "  print(a)\n",
    "  print(b)\n",
    "  print(c)\n",
    "func(1,2,3)"
   ]
  },
  {
   "cell_type": "code",
   "execution_count": 5,
   "metadata": {
    "colab": {
     "base_uri": "https://localhost:8080/"
    },
    "id": "v_1dwzf03M9N",
    "outputId": "dae23706-2c25-4839-92d7-00c31bcb5ffb"
   },
   "outputs": [
    {
     "name": "stdout",
     "output_type": "stream",
     "text": [
      "1\n",
      "2\n",
      "3\n"
     ]
    }
   ],
   "source": [
    "func(b=2,c=3,a=1)\n",
    "     "
   ]
  },
  {
   "cell_type": "code",
   "execution_count": 6,
   "metadata": {
    "id": "FztWeHsr3M_1"
   },
   "outputs": [],
   "source": [
    "def func():\n",
    "  print(\"hello\")\n"
   ]
  },
  {
   "cell_type": "code",
   "execution_count": 7,
   "metadata": {
    "id": "F-S4dZ0P3NCt"
   },
   "outputs": [],
   "source": [
    "def func(a):\n",
    "  print(a)"
   ]
  },
  {
   "cell_type": "code",
   "execution_count": 8,
   "metadata": {
    "colab": {
     "base_uri": "https://localhost:8080/",
     "height": 215
    },
    "id": "9WFysWQv3NFS",
    "outputId": "abae2211-8360-4a45-8f08-ec76b1f38146"
   },
   "outputs": [
    {
     "ename": "TypeError",
     "evalue": "ignored",
     "output_type": "error",
     "traceback": [
      "\u001b[0;31m---------------------------------------------------------------------------\u001b[0m",
      "\u001b[0;31mTypeError\u001b[0m                                 Traceback (most recent call last)",
      "\u001b[0;32m<ipython-input-8-d118ff648ae4>\u001b[0m in \u001b[0;36m<module>\u001b[0;34m\u001b[0m\n\u001b[0;32m----> 1\u001b[0;31m \u001b[0mfunc\u001b[0m\u001b[0;34m(\u001b[0m\u001b[0;34m)\u001b[0m\u001b[0;34m\u001b[0m\u001b[0;34m\u001b[0m\u001b[0m\n\u001b[0m\u001b[1;32m      2\u001b[0m \u001b[0mfunc\u001b[0m\u001b[0;34m(\u001b[0m\u001b[0;36m1\u001b[0m\u001b[0;34m)\u001b[0m\u001b[0;34m\u001b[0m\u001b[0;34m\u001b[0m\u001b[0m\n",
      "\u001b[0;31mTypeError\u001b[0m: func() missing 1 required positional argument: 'a'"
     ]
    }
   ],
   "source": [
    "func()\n",
    "func(1)"
   ]
  },
  {
   "cell_type": "code",
   "execution_count": 9,
   "metadata": {
    "id": "q2l5l1vd3NIK"
   },
   "outputs": [],
   "source": [
    "# hello="
   ]
  },
  {
   "cell_type": "code",
   "execution_count": 10,
   "metadata": {
    "colab": {
     "base_uri": "https://localhost:8080/"
    },
    "id": "jRe8G4Mj3NKw",
    "outputId": "461a2da2-bd9e-47ad-9896-c1b1e245e238"
   },
   "outputs": [
    {
     "name": "stdout",
     "output_type": "stream",
     "text": [
      "hello world !\n"
     ]
    }
   ],
   "source": [
    "def hello():\n",
    "  print(\"hello world !\")\n",
    "a=1\n",
    "a=hello\n",
    "a()"
   ]
  },
  {
   "cell_type": "code",
   "execution_count": 11,
   "metadata": {
    "colab": {
     "base_uri": "https://localhost:8080/"
    },
    "id": "GKFVpNM93NNo",
    "outputId": "7b1ce91a-a8f4-4a48-c985-0b24b0e50267"
   },
   "outputs": [
    {
     "data": {
      "text/plain": [
       "function"
      ]
     },
     "execution_count": 11,
     "metadata": {},
     "output_type": "execute_result"
    }
   ],
   "source": [
    "type(hello)"
   ]
  },
  {
   "cell_type": "code",
   "execution_count": 12,
   "metadata": {
    "colab": {
     "base_uri": "https://localhost:8080/"
    },
    "id": "7_mhAakp3NQf",
    "outputId": "a32f61c3-2133-46e9-ad7b-bb9a5ef79869"
   },
   "outputs": [
    {
     "name": "stdout",
     "output_type": "stream",
     "text": [
      "2\n"
     ]
    }
   ],
   "source": [
    "hello =2\n",
    "print(hello)"
   ]
  },
  {
   "cell_type": "code",
   "execution_count": 13,
   "metadata": {
    "colab": {
     "base_uri": "https://localhost:8080/"
    },
    "id": "wuIPmRhJ3mBI",
    "outputId": "ee39fdb1-394a-448b-a6ce-c55228bc58bb"
   },
   "outputs": [
    {
     "name": "stdout",
     "output_type": "stream",
     "text": [
      "hello world !\n"
     ]
    },
    {
     "data": {
      "text/plain": [
       "1"
      ]
     },
     "execution_count": 13,
     "metadata": {},
     "output_type": "execute_result"
    }
   ],
   "source": [
    "def hello():\n",
    "  print(\"hello world !\")\n",
    "  return 1\n",
    "hello()"
   ]
  },
  {
   "cell_type": "code",
   "execution_count": 14,
   "metadata": {
    "colab": {
     "base_uri": "https://localhost:8080/"
    },
    "id": "-N7ReYoD3mCb",
    "outputId": "c34a322c-8c6b-427f-e011-ce4bb33ca30e"
   },
   "outputs": [
    {
     "data": {
      "text/plain": [
       "<function __main__.hello()>"
      ]
     },
     "execution_count": 14,
     "metadata": {},
     "output_type": "execute_result"
    }
   ],
   "source": [
    "hello"
   ]
  },
  {
   "cell_type": "code",
   "execution_count": 15,
   "metadata": {
    "colab": {
     "base_uri": "https://localhost:8080/",
     "height": 130
    },
    "id": "SRarDsGR3mNM",
    "outputId": "4425c45c-15f9-4ae9-e083-2e7976028c75"
   },
   "outputs": [
    {
     "ename": "SyntaxError",
     "evalue": "ignored",
     "output_type": "error",
     "traceback": [
      "\u001b[0;36m  File \u001b[0;32m\"<ipython-input-15-b7c592c53b28>\"\u001b[0;36m, line \u001b[0;32m1\u001b[0m\n\u001b[0;31m    def func(a,b=10 ,c):\u001b[0m\n\u001b[0m             ^\u001b[0m\n\u001b[0;31mSyntaxError\u001b[0m\u001b[0;31m:\u001b[0m non-default argument follows default argument\n"
     ]
    }
   ],
   "source": [
    "def func(a,b=10 ,c):\n",
    "  print(a,b,c)"
   ]
  },
  {
   "cell_type": "code",
   "execution_count": 16,
   "metadata": {
    "id": "1g4rRkjH3mQP"
   },
   "outputs": [],
   "source": [
    "#    *args  **kwargs"
   ]
  },
  {
   "cell_type": "code",
   "execution_count": 17,
   "metadata": {
    "colab": {
     "base_uri": "https://localhost:8080/"
    },
    "id": "4rt_yZJj3mTX",
    "outputId": "ab832847-f913-4eaf-9263-eb7ac199f4ee"
   },
   "outputs": [
    {
     "name": "stdout",
     "output_type": "stream",
     "text": [
      "1 2 3 4 5 6\n"
     ]
    }
   ],
   "source": [
    "print(1,2,3,4,5,6)"
   ]
  },
  {
   "cell_type": "code",
   "execution_count": 18,
   "metadata": {
    "id": "c68CTbWn3mWO"
   },
   "outputs": [],
   "source": [
    "# Arguments in other language\n",
    "\n",
    "# Required arguments 'func(a)'\n",
    "#  Default argument 'func(b=1)'\n",
    "\n",
    "# Argument in python\n",
    "\n",
    "# Required arguments\n",
    "# Default arguments\n",
    "# Optional positional only arguments\n",
    "# Required keyworded only argumentrd\n",
    "# Default keyworded only arguments\n",
    "# Optional keyworded only arguments"
   ]
  },
  {
   "cell_type": "code",
   "execution_count": 19,
   "metadata": {
    "colab": {
     "base_uri": "https://localhost:8080/"
    },
    "id": "XGe6gy943mj5",
    "outputId": "ab0b29ef-5f51-4411-b7f3-ec29e70b269f"
   },
   "outputs": [
    {
     "name": "stdout",
     "output_type": "stream",
     "text": [
      "1 2\n"
     ]
    }
   ],
   "source": [
    "def func(a,b):\n",
    "  print(a,b)\n",
    "func(1,2)\n"
   ]
  },
  {
   "cell_type": "code",
   "execution_count": 20,
   "metadata": {
    "colab": {
     "base_uri": "https://localhost:8080/"
    },
    "id": "jciqDN4i30EQ",
    "outputId": "7e8d8551-1602-4bb8-971c-65cd45ed979c"
   },
   "outputs": [
    {
     "name": "stdout",
     "output_type": "stream",
     "text": [
      "1 2\n",
      "1 2\n",
      "3 4\n"
     ]
    }
   ],
   "source": [
    "def func(a=1 , b=2):\n",
    "  print(a,b)\n",
    "func()\n",
    "func(1)\n",
    "func(3,4)"
   ]
  },
  {
   "cell_type": "code",
   "execution_count": 21,
   "metadata": {
    "colab": {
     "base_uri": "https://localhost:8080/"
    },
    "id": "Pq8eGrgR30HO",
    "outputId": "0f596e03-dd98-4634-dba6-68bb80d23dc1"
   },
   "outputs": [
    {
     "name": "stdout",
     "output_type": "stream",
     "text": [
      "(1, 2, 3, 4)\n"
     ]
    }
   ],
   "source": [
    "def func(*a):\n",
    "  print(a)\n",
    "func(1,2,3,4)"
   ]
  },
  {
   "cell_type": "code",
   "execution_count": 32,
   "metadata": {
    "colab": {
     "base_uri": "https://localhost:8080/"
    },
    "id": "2rPZlAhH30KF",
    "outputId": "b2b42ccb-582c-40aa-b0dd-5512d7b0ec54"
   },
   "outputs": [
    {
     "name": "stdout",
     "output_type": "stream",
     "text": [
      "1\n",
      "2\n",
      "(3, 4, 'Prajakta ', 8)\n"
     ]
    }
   ],
   "source": [
    "def func(a,b, *c):\n",
    "  print(a)\n",
    "  print(b)\n",
    "  print(c)\n",
    "func(1,2,3,4,\"Prajakta \",8)\n"
   ]
  },
  {
   "cell_type": "code",
   "execution_count": 12,
   "metadata": {
    "colab": {
     "base_uri": "https://localhost:8080/",
     "height": 232
    },
    "id": "IJpZSwJ430M8",
    "outputId": "b973fd01-bed8-474c-efad-8986406fa599"
   },
   "outputs": [
    {
     "ename": "TypeError",
     "evalue": "func() missing 1 required keyword-only argument: 'd'",
     "output_type": "error",
     "traceback": [
      "\u001b[1;31m---------------------------------------------------------------------------\u001b[0m",
      "\u001b[1;31mTypeError\u001b[0m                                 Traceback (most recent call last)",
      "Cell \u001b[1;32mIn[12], line 6\u001b[0m\n\u001b[0;32m      4\u001b[0m   \u001b[38;5;28mprint\u001b[39m(c)\n\u001b[0;32m      5\u001b[0m   \u001b[38;5;28mprint\u001b[39m(d)\n\u001b[1;32m----> 6\u001b[0m \u001b[43mfunc\u001b[49m\u001b[43m(\u001b[49m\u001b[38;5;241;43m1\u001b[39;49m\u001b[43m,\u001b[49m\u001b[38;5;241;43m2\u001b[39;49m\u001b[43m,\u001b[49m\u001b[38;5;241;43m3\u001b[39;49m\u001b[43m,\u001b[49m\u001b[38;5;241;43m4\u001b[39;49m\u001b[43m,\u001b[49m\u001b[38;5;241;43m5\u001b[39;49m\u001b[43m,\u001b[49m\u001b[38;5;241;43m6\u001b[39;49m\u001b[43m,\u001b[49m\u001b[38;5;241;43m6\u001b[39;49m\u001b[43m,\u001b[49m\u001b[38;5;241;43m7\u001b[39;49m\u001b[43m,\u001b[49m\u001b[38;5;241;43m8\u001b[39;49m\u001b[43m,\u001b[49m\u001b[38;5;241;43m9\u001b[39;49m\u001b[43m,\u001b[49m\u001b[38;5;241;43m6\u001b[39;49m\u001b[43m,\u001b[49m\u001b[38;5;241;43m4\u001b[39;49m\u001b[43m)\u001b[49m\n",
      "\u001b[1;31mTypeError\u001b[0m: func() missing 1 required keyword-only argument: 'd'"
     ]
    }
   ],
   "source": [
    "def func(a,b,*c,d):\n",
    "  print(a)\n",
    "  print(b)\n",
    "  print(c)\n",
    "  print(d)\n",
    "func(1,2,3,4,5,6,6,7,8,9,6,4)\n"
   ]
  },
  {
   "cell_type": "code",
   "execution_count": 13,
   "metadata": {
    "id": "mM5cb-wC30Pz"
   },
   "outputs": [
    {
     "name": "stdout",
     "output_type": "stream",
     "text": [
      "1\n",
      "2\n",
      "(3, 4, 5, 6, 6, 7, 8, 9, 6)\n",
      "4\n"
     ]
    }
   ],
   "source": [
    "def func(a,b,*c,d):\n",
    "  print(a)\n",
    "  print(b)\n",
    "  print(c)\n",
    "  print(d)\n",
    "func(1,2,3,4,5,6,6,7,8,9,6,d=4)"
   ]
  },
  {
   "cell_type": "code",
   "execution_count": 23,
   "metadata": {
    "colab": {
     "base_uri": "https://localhost:8080/"
    },
    "id": "AFtEBf9N30Sa",
    "outputId": "05d67026-fec0-43bf-ea61-07f41b8d018d"
   },
   "outputs": [
    {
     "name": "stdout",
     "output_type": "stream",
     "text": [
      "1\n",
      "2\n",
      "(3, 4, 5, 6)\n",
      "some\n",
      "Prajakta\n"
     ]
    }
   ],
   "source": [
    "def func(a,b,*c,d,e=\"Prajakta\"):\n",
    "  print(a)\n",
    "  print(b)\n",
    "  print(c)\n",
    "  print(d)\n",
    "  print(e)\n",
    "func(1,2,3,4,5,6,d=\"some\")\n"
   ]
  },
  {
   "cell_type": "code",
   "execution_count": 24,
   "metadata": {
    "colab": {
     "base_uri": "https://localhost:8080/"
    },
    "id": "o7GDdHyQ30Vj",
    "outputId": "fb72b100-2606-45e6-cd25-8eaf2dc6a2c3"
   },
   "outputs": [
    {
     "name": "stdout",
     "output_type": "stream",
     "text": [
      "1\n",
      "2\n",
      "(3, 4, 5, 6)\n",
      "some\n",
      "asdf\n"
     ]
    }
   ],
   "source": [
    "def func(a,b,*c,d,e=\"Prajakta\"):\n",
    "  print(a)\n",
    "  print(b)\n",
    "  print(c)\n",
    "  print(d)\n",
    "  print(e)\n",
    "func(1,2,3,4,5,6,d=\"some\",e=\"asdf\")\n",
    "     "
   ]
  },
  {
   "cell_type": "code",
   "execution_count": 25,
   "metadata": {
    "colab": {
     "base_uri": "https://localhost:8080/"
    },
    "id": "6YjJYWY54H_I",
    "outputId": "7fb9142a-ea00-41eb-e39c-b42e9665148d"
   },
   "outputs": [
    {
     "name": "stdout",
     "output_type": "stream",
     "text": [
      "{'name': 'keratin'}\n"
     ]
    }
   ],
   "source": [
    "def func(**k):\n",
    "  print(k)\n",
    "func(name=\"keratin\")"
   ]
  },
  {
   "cell_type": "code",
   "execution_count": 26,
   "metadata": {
    "id": "vBDTrXvH4IA_"
   },
   "outputs": [],
   "source": [
    "def func(a,b=1,*c,d,e=\"\",**k):\n",
    "  print(k)"
   ]
  },
  {
   "cell_type": "code",
   "execution_count": 27,
   "metadata": {
    "colab": {
     "base_uri": "https://localhost:8080/",
     "height": 232
    },
    "id": "hVHQWl_j4IDh",
    "outputId": "2947fe0f-385a-467d-8b93-a4d9d5078aba"
   },
   "outputs": [
    {
     "ename": "NameError",
     "evalue": "name 'd' is not defined",
     "output_type": "error",
     "traceback": [
      "\u001b[1;31m---------------------------------------------------------------------------\u001b[0m",
      "\u001b[1;31mNameError\u001b[0m                                 Traceback (most recent call last)",
      "Cell \u001b[1;32mIn[27], line 3\u001b[0m\n\u001b[0;32m      1\u001b[0m \u001b[38;5;66;03m# Anonymous function or lambda function\u001b[39;00m\n\u001b[0;32m      2\u001b[0m \u001b[38;5;28;01mlambda\u001b[39;00m a,b: a\u001b[38;5;241m+\u001b[39mb\n\u001b[1;32m----> 3\u001b[0m \u001b[43md\u001b[49m(\u001b[38;5;241m2\u001b[39m,\u001b[38;5;241m6\u001b[39m)\n",
      "\u001b[1;31mNameError\u001b[0m: name 'd' is not defined"
     ]
    }
   ],
   "source": [
    "# Anonymous function or lambda function\n",
    "lambda a,b: a+b\n",
    "d(2,6)"
   ]
  },
  {
   "cell_type": "code",
   "execution_count": 28,
   "metadata": {
    "colab": {
     "base_uri": "https://localhost:8080/"
    },
    "id": "Ytn7OREH4IGK",
    "outputId": "33129883-4531-4bca-de57-73957f97cdad"
   },
   "outputs": [
    {
     "data": {
      "text/plain": [
       "<function __main__.<lambda>(a, b)>"
      ]
     },
     "execution_count": 28,
     "metadata": {},
     "output_type": "execute_result"
    }
   ],
   "source": [
    "lambda a,b: a+b"
   ]
  },
  {
   "cell_type": "code",
   "execution_count": 29,
   "metadata": {
    "colab": {
     "base_uri": "https://localhost:8080/"
    },
    "id": "iXYGPk9U4OMh",
    "outputId": "150e510b-5f1d-4a6e-d725-5388e425dd41"
   },
   "outputs": [
    {
     "data": {
      "text/plain": [
       "[0, 1, 4, 5, 7, 8]"
      ]
     },
     "execution_count": 29,
     "metadata": {},
     "output_type": "execute_result"
    }
   ],
   "source": [
    "sorted([4,8,1,0,7,5])"
   ]
  },
  {
   "cell_type": "code",
   "execution_count": 30,
   "metadata": {
    "colab": {
     "base_uri": "https://localhost:8080/"
    },
    "id": "DoZFD43d4OQl",
    "outputId": "605eba78-5c2b-469e-b08a-2763640ba0f8"
   },
   "outputs": [
    {
     "name": "stdout",
     "output_type": "stream",
     "text": [
      "3\n",
      "None\n"
     ]
    }
   ],
   "source": [
    "a=1\n",
    "b=2\n",
    "c=print(a+b)\n",
    "print(c)\n"
   ]
  },
  {
   "cell_type": "code",
   "execution_count": 31,
   "metadata": {
    "colab": {
     "base_uri": "https://localhost:8080/"
    },
    "id": "mz2NZd-l4OTs",
    "outputId": "0f81b2ef-ba1f-4d49-c239-7429ac974afa"
   },
   "outputs": [
    {
     "name": "stdout",
     "output_type": "stream",
     "text": [
      "hello\n"
     ]
    }
   ],
   "source": [
    "def func(a):\n",
    "  a()\n",
    "func(a=lambda:print(\"hello\"))"
   ]
  }
 ],
 "metadata": {
  "colab": {
   "authorship_tag": "ABX9TyMB5Bt8JVjmaDjN1ZU01HL8",
   "include_colab_link": true,
   "provenance": []
  },
  "kernelspec": {
   "display_name": "Python 3 (ipykernel)",
   "language": "python",
   "name": "python3"
  },
  "language_info": {
   "codemirror_mode": {
    "name": "ipython",
    "version": 3
   },
   "file_extension": ".py",
   "mimetype": "text/x-python",
   "name": "python",
   "nbconvert_exporter": "python",
   "pygments_lexer": "ipython3",
   "version": "3.11.0"
  }
 },
 "nbformat": 4,
 "nbformat_minor": 1
}
