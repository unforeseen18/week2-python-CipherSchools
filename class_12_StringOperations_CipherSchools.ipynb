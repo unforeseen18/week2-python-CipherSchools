{
 "cells": [
  {
   "cell_type": "markdown",
   "metadata": {
    "colab_type": "text",
    "id": "view-in-github"
   },
   "source": [
    "<a href=\"https://colab.research.google.com/github/githubtanush/week2-Python-CipherSchools/blob/main/class12_StringOperations_CipherSchools.ipynb\" target=\"_parent\"><img src=\"https://colab.research.google.com/assets/colab-badge.svg\" alt=\"Open In Colab\"/></a>"
   ]
  },
  {
   "cell_type": "code",
   "execution_count": 1,
   "metadata": {
    "colab": {
     "base_uri": "https://localhost:8080/"
    },
    "id": "jNytGMEf4pOn",
    "outputId": "f93bdf94-78d1-4685-c233-e6a96aaadbc3"
   },
   "outputs": [
    {
     "name": "stdout",
     "output_type": "stream",
     "text": [
      "value of a is 5\n",
      "value of a is 5 2\n"
     ]
    }
   ],
   "source": [
    "#String formating or String Interpolation\n",
    "a=5\n",
    "print(\"value of a is %d\" % (a))\n",
    "print(\"value of a is {} {}\".format(a,2))"
   ]
  },
  {
   "cell_type": "code",
   "execution_count": 2,
   "metadata": {
    "colab": {
     "base_uri": "https://localhost:8080/",
     "height": 37
    },
    "id": "PclKbKb0490q",
    "outputId": "b9e4acbf-7561-43b1-a516-bedba0d53dbc"
   },
   "outputs": [
    {
     "data": {
      "application/vnd.google.colaboratory.intrinsic+json": {
       "type": "string"
      },
      "text/plain": [
       "'a=1 , b=2 ,c = 3  '"
      ]
     },
     "execution_count": 2,
     "metadata": {},
     "output_type": "execute_result"
    }
   ],
   "source": [
    "a , b ,c=1,2,3\n",
    "\"a={} , b={} ,c = {}  \".format(a , b , c)"
   ]
  },
  {
   "cell_type": "code",
   "execution_count": 3,
   "metadata": {
    "colab": {
     "base_uri": "https://localhost:8080/",
     "height": 37
    },
    "id": "RXS_pPev491y",
    "outputId": "b4b87ec1-37c3-42a6-d550-233bca87f355"
   },
   "outputs": [
    {
     "data": {
      "application/vnd.google.colaboratory.intrinsic+json": {
       "type": "string"
      },
      "text/plain": [
       "'a=1 , b=2 ,c = 3 '"
      ]
     },
     "execution_count": 3,
     "metadata": {},
     "output_type": "execute_result"
    }
   ],
   "source": [
    "a , b ,c=1,2,3\n",
    "\"a={2} , b={1} ,c = {0} \".format(c , b , a)   #here Index value used"
   ]
  },
  {
   "cell_type": "code",
   "execution_count": 28,
   "metadata": {
    "colab": {
     "base_uri": "https://localhost:8080/",
     "height": 130
    },
    "id": "CTjgNEE3494c",
    "outputId": "60e1dd61-8e81-4c3d-8748-753970473b41"
   },
   "outputs": [
    {
     "ename": "SyntaxError",
     "evalue": "incomplete input (3728350222.py, line 3)",
     "output_type": "error",
     "traceback": [
      "\u001b[1;36m  Cell \u001b[1;32mIn[28], line 3\u001b[1;36m\u001b[0m\n\u001b[1;33m    \"name = {name} company={company}\".format(name=name , company=company\u001b[0m\n\u001b[1;37m                                                                        ^\u001b[0m\n\u001b[1;31mSyntaxError\u001b[0m\u001b[1;31m:\u001b[0m incomplete input\n"
     ]
    }
   ],
   "source": [
    "name = \"Prajakta Chhetri\"\n",
    "company =\"Apple\"\n",
    "\"name = {name} company={company}\".format(name=name , company=company"
   ]
  },
  {
   "cell_type": "code",
   "execution_count": 30,
   "metadata": {
    "colab": {
     "base_uri": "https://localhost:8080/",
     "height": 147
    },
    "id": "vCwM0_MI496x",
    "outputId": "21b8aaaa-8293-4a6a-b484-4ad3b7e80d7b"
   },
   "outputs": [
    {
     "ename": "SyntaxError",
     "evalue": "incomplete input (3262516768.py, line 3)",
     "output_type": "error",
     "traceback": [
      "\u001b[1;36m  Cell \u001b[1;32mIn[30], line 3\u001b[1;36m\u001b[0m\n\u001b[1;33m    \"hello i am {name} and i am working in {company}\".format(name=name , c\u001b[0m\n\u001b[1;37m                                                                          ^\u001b[0m\n\u001b[1;31mSyntaxError\u001b[0m\u001b[1;31m:\u001b[0m incomplete input\n"
     ]
    }
   ],
   "source": [
    "name = \"Prajakta Chhetri\"\n",
    "company =\"Apple\"\n",
    "\"hello i am {name} and i am working in {company}\".format(name=name , c"
   ]
  },
  {
   "cell_type": "code",
   "execution_count": 31,
   "metadata": {
    "colab": {
     "base_uri": "https://localhost:8080/"
    },
    "id": "dqQ4GSXW499Z",
    "outputId": "02f92994-20a6-4b5f-b821-5f44e3a0752f"
   },
   "outputs": [
    {
     "name": "stdout",
     "output_type": "stream",
     "text": [
      "name=()\n"
     ]
    }
   ],
   "source": [
    "print(f\"name=()\")"
   ]
  },
  {
   "cell_type": "code",
   "execution_count": 32,
   "metadata": {
    "colab": {
     "base_uri": "https://localhost:8080/"
    },
    "id": "x8BJWOKu49_-",
    "outputId": "c7c75ac4-dc6f-46dd-f00e-2cba4401fa08"
   },
   "outputs": [
    {
     "name": "stdout",
     "output_type": "stream",
     "text": [
      "name={name}\n"
     ]
    }
   ],
   "source": [
    "print(\"name={name}\")"
   ]
  },
  {
   "cell_type": "code",
   "execution_count": 33,
   "metadata": {
    "colab": {
     "base_uri": "https://localhost:8080/",
     "height": 198
    },
    "id": "n8UUG2wx4-C2",
    "outputId": "619d2142-d839-425f-fe6e-1a2f5bcb69e7"
   },
   "outputs": [
    {
     "ename": "NameError",
     "evalue": "name 'name' is not defined",
     "output_type": "error",
     "traceback": [
      "\u001b[1;31m---------------------------------------------------------------------------\u001b[0m",
      "\u001b[1;31mNameError\u001b[0m                                 Traceback (most recent call last)",
      "Cell \u001b[1;32mIn[33], line 1\u001b[0m\n\u001b[1;32m----> 1\u001b[0m \u001b[38;5;28mprint\u001b[39m(\u001b[38;5;124mf\u001b[39m\u001b[38;5;124m\"\u001b[39m\u001b[38;5;124mname=\u001b[39m\u001b[38;5;132;01m{\u001b[39;00m\u001b[43mname\u001b[49m\u001b[38;5;132;01m}\u001b[39;00m\u001b[38;5;124m\"\u001b[39m)\n",
      "\u001b[1;31mNameError\u001b[0m: name 'name' is not defined"
     ]
    }
   ],
   "source": [
    "print(f\"name={name}\")\n"
   ]
  },
  {
   "cell_type": "code",
   "execution_count": 34,
   "metadata": {
    "colab": {
     "base_uri": "https://localhost:8080/"
    },
    "id": "QnCCpR9f4-FL",
    "outputId": "1508f1e9-aa32-4c72-b3a9-1c051bf1367b"
   },
   "outputs": [
    {
     "name": "stdout",
     "output_type": "stream",
     "text": [
      "name=3\n"
     ]
    }
   ],
   "source": [
    "print(f\"name={1+2}\")"
   ]
  },
  {
   "cell_type": "code",
   "execution_count": 35,
   "metadata": {
    "colab": {
     "base_uri": "https://localhost:8080/"
    },
    "id": "RGkD0-5w4-Hz",
    "outputId": "c7c66986-b201-40e8-983a-8743e34ac878"
   },
   "outputs": [
    {
     "name": "stdout",
     "output_type": "stream",
     "text": [
      "name=3.3333333333333335\n"
     ]
    }
   ],
   "source": [
    "print(f\"name={10/3}\")"
   ]
  },
  {
   "cell_type": "code",
   "execution_count": 36,
   "metadata": {
    "colab": {
     "base_uri": "https://localhost:8080/"
    },
    "id": "Z7iysk9M4-Ka",
    "outputId": "7b047946-ccd5-4c60-c64e-c73c1500b74a"
   },
   "outputs": [
    {
     "data": {
      "text/plain": [
       "4"
      ]
     },
     "execution_count": 36,
     "metadata": {},
     "output_type": "execute_result"
    }
   ],
   "source": [
    "len(r\"a\\nb\")"
   ]
  },
  {
   "cell_type": "code",
   "execution_count": 37,
   "metadata": {
    "colab": {
     "base_uri": "https://localhost:8080/"
    },
    "id": "27n3-Frw4-NQ",
    "outputId": "028bbd6b-8e39-45d8-f4eb-dbc994eb59de"
   },
   "outputs": [
    {
     "name": "stdout",
     "output_type": "stream",
     "text": [
      "a\n",
      "\\\n",
      "n\n",
      "b\n"
     ]
    }
   ],
   "source": [
    "for c in r\"a\\nb\":\n",
    "  print(c)"
   ]
  },
  {
   "cell_type": "code",
   "execution_count": 39,
   "metadata": {
    "colab": {
     "base_uri": "https://localhost:8080/",
     "height": 37
    },
    "id": "GtJx1RZc4-P4",
    "outputId": "15fee645-d3eb-4033-d899-8b9889f61196"
   },
   "outputs": [
    {
     "data": {
      "text/plain": [
       "'Prajakta'"
      ]
     },
     "execution_count": 39,
     "metadata": {},
     "output_type": "execute_result"
    }
   ],
   "source": [
    "\"    Prajakta         \".strip()"
   ]
  },
  {
   "cell_type": "code",
   "execution_count": 25,
   "metadata": {
    "colab": {
     "base_uri": "https://localhost:8080/"
    },
    "id": "XMh64N9i4-Se",
    "outputId": "cc91d7ed-07e1-4e04-fb61-630f0a1af390"
   },
   "outputs": [
    {
     "data": {
      "text/plain": [
       "['1 ', ' 2 ', ' 3 ', ' 4', ' 5']"
      ]
     },
     "execution_count": 25,
     "metadata": {},
     "output_type": "execute_result"
    }
   ],
   "source": [
    "\"1 , 2 , 3 , 4, 5\".split(\",\")"
   ]
  },
  {
   "cell_type": "code",
   "execution_count": 40,
   "metadata": {
    "colab": {
     "base_uri": "https://localhost:8080/",
     "height": 37
    },
    "id": "2OJj0Fda4-VF",
    "outputId": "9f9aa78e-b9a2-405b-c2dd-55d116cb91cf"
   },
   "outputs": [
    {
     "data": {
      "text/plain": [
       "'Przjzktz Chhetri'"
      ]
     },
     "execution_count": 40,
     "metadata": {},
     "output_type": "execute_result"
    }
   ],
   "source": [
    "\"Prajakta Chhetri\".replace(\"a\",\"z\")"
   ]
  },
  {
   "cell_type": "code",
   "execution_count": 41,
   "metadata": {
    "colab": {
     "base_uri": "https://localhost:8080/"
    },
    "id": "yuJt67Z84-Xr",
    "outputId": "f8f48ffb-a936-4908-9b53-c2567d6f7d10"
   },
   "outputs": [
    {
     "data": {
      "text/plain": [
       "3"
      ]
     },
     "execution_count": 41,
     "metadata": {},
     "output_type": "execute_result"
    }
   ],
   "source": [
    "\"Prajakta Chhetri\".count(\"a\")"
   ]
  }
 ],
 "metadata": {
  "colab": {
   "authorship_tag": "ABX9TyOZoZN4BqVXpwjmahGBGCRr",
   "include_colab_link": true,
   "provenance": []
  },
  "kernelspec": {
   "display_name": "Python 3 (ipykernel)",
   "language": "python",
   "name": "python3"
  },
  "language_info": {
   "codemirror_mode": {
    "name": "ipython",
    "version": 3
   },
   "file_extension": ".py",
   "mimetype": "text/x-python",
   "name": "python",
   "nbconvert_exporter": "python",
   "pygments_lexer": "ipython3",
   "version": "3.11.0"
  }
 },
 "nbformat": 4,
 "nbformat_minor": 1
}
