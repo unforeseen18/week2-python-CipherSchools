{
 "cells": [
  {
   "cell_type": "markdown",
   "metadata": {
    "colab_type": "text",
    "id": "view-in-github"
   },
   "source": [
    "<a href=\"https://colab.research.google.com/github/githubtanush/week2-Python-CipherSchools/blob/main/Class_17_Introduction_to_Object_Oriented_Programming_CipherSchools.ipynb\" target=\"_parent\"><img src=\"https://colab.research.google.com/assets/colab-badge.svg\" alt=\"Open In Colab\"/></a>"
   ]
  },
  {
   "cell_type": "code",
   "execution_count": 1,
   "metadata": {
    "id": "j8KUppz96bCm"
   },
   "outputs": [],
   "source": [
    "#object orientated programming language"
   ]
  },
  {
   "cell_type": "code",
   "execution_count": 2,
   "metadata": {
    "id": "tpmpGg-2NTHC"
   },
   "outputs": [],
   "source": [
    "#Abstraction\n",
    "#Encapsulation\n",
    "#inheitence\n",
    "#polymorphism"
   ]
  },
  {
   "cell_type": "code",
   "execution_count": 3,
   "metadata": {
    "id": "nrxsU8TwOMeO"
   },
   "outputs": [],
   "source": [
    "#Abstraction = need to know basis"
   ]
  },
  {
   "cell_type": "code",
   "execution_count": 23,
   "metadata": {
    "id": "KL3ueidENTJd"
   },
   "outputs": [],
   "source": [
    "student1 = {\n",
    "    \"name\":\"Prajakta Chhetri\",\n",
    "    \"marks\": 50\n",
    "}\n",
    "student2 = {\n",
    "    \"name\": \"Janvi\",\n",
    "    \"marks\": 100\n",
    "}"
   ]
  },
  {
   "cell_type": "code",
   "execution_count": 24,
   "metadata": {
    "colab": {
     "base_uri": "https://localhost:8080/"
    },
    "id": "rdXhxGYANTMF",
    "outputId": "0c9206a7-51d5-4b05-a45b-36b09ddb290b"
   },
   "outputs": [
    {
     "name": "stdout",
     "output_type": "stream",
     "text": [
      "\n"
     ]
    }
   ],
   "source": [
    "print()"
   ]
  },
  {
   "cell_type": "code",
   "execution_count": 25,
   "metadata": {
    "id": "RW5xEosuOn_q"
   },
   "outputs": [],
   "source": [
    "#A minimal example of class"
   ]
  },
  {
   "cell_type": "code",
   "execution_count": 26,
   "metadata": {
    "id": "UwcLvhEMOrEC"
   },
   "outputs": [],
   "source": [
    "#python object can have multiple attributes\n",
    "\n",
    "#-collable(e.g. functions and classes)\n",
    "#-iterable(e.g. list,string and generator)\n",
    "#-contextable(e.g. files)"
   ]
  },
  {
   "cell_type": "code",
   "execution_count": 27,
   "metadata": {
    "colab": {
     "base_uri": "https://localhost:8080/",
     "height": 198
    },
    "id": "dxuicpZ-On5-",
    "outputId": "aad15533-fa43-4956-f199-32f217c2894a"
   },
   "outputs": [
    {
     "ename": "TypeError",
     "evalue": "'int' object is not callable",
     "output_type": "error",
     "traceback": [
      "\u001b[1;31m---------------------------------------------------------------------------\u001b[0m",
      "\u001b[1;31mTypeError\u001b[0m                                 Traceback (most recent call last)",
      "Cell \u001b[1;32mIn[27], line 1\u001b[0m\n\u001b[1;32m----> 1\u001b[0m \u001b[43ma\u001b[49m\u001b[43m(\u001b[49m\u001b[43m)\u001b[49m\n",
      "\u001b[1;31mTypeError\u001b[0m: 'int' object is not callable"
     ]
    }
   ],
   "source": [
    "a()"
   ]
  },
  {
   "cell_type": "code",
   "execution_count": 28,
   "metadata": {
    "colab": {
     "base_uri": "https://localhost:8080/"
    },
    "id": "s_aa_zXENTOs",
    "outputId": "fbc91ffa-b75a-46a3-d9d4-73cf0c2e3b45"
   },
   "outputs": [
    {
     "name": "stdout",
     "output_type": "stream",
     "text": [
      "<__main__.person object at 0x000001239780DA90>\n"
     ]
    }
   ],
   "source": [
    "class person:\n",
    "  pass\n",
    "\n",
    "p = person()\n",
    "print(p)"
   ]
  },
  {
   "cell_type": "code",
   "execution_count": 29,
   "metadata": {
    "colab": {
     "base_uri": "https://localhost:8080/",
     "height": 37
    },
    "id": "rJIG8RUnNTRD",
    "outputId": "ee1925e0-5c0e-46dc-f22d-cd0a3a6ff7af"
   },
   "outputs": [
    {
     "data": {
      "text/plain": [
       "'0x1239780da90'"
      ]
     },
     "execution_count": 29,
     "metadata": {},
     "output_type": "execute_result"
    }
   ],
   "source": [
    "hex(id(p))"
   ]
  },
  {
   "cell_type": "code",
   "execution_count": null,
   "metadata": {
    "id": "Xynswa5FNTTp"
   },
   "outputs": [],
   "source": []
  },
  {
   "cell_type": "code",
   "execution_count": 30,
   "metadata": {
    "id": "oteimJHMNTWP"
   },
   "outputs": [],
   "source": [
    "a=1"
   ]
  },
  {
   "cell_type": "code",
   "execution_count": 31,
   "metadata": {
    "colab": {
     "base_uri": "https://localhost:8080/",
     "height": 198
    },
    "id": "9dstxCWWNTY3",
    "outputId": "f4768c49-bf38-4fa7-8e94-9bf71c2ba994"
   },
   "outputs": [
    {
     "ename": "AttributeError",
     "evalue": "'int' object has no attribute 'square'",
     "output_type": "error",
     "traceback": [
      "\u001b[1;31m---------------------------------------------------------------------------\u001b[0m",
      "\u001b[1;31mAttributeError\u001b[0m                            Traceback (most recent call last)",
      "Cell \u001b[1;32mIn[31], line 1\u001b[0m\n\u001b[1;32m----> 1\u001b[0m \u001b[43ma\u001b[49m\u001b[38;5;241;43m.\u001b[39;49m\u001b[43msquare\u001b[49m\n",
      "\u001b[1;31mAttributeError\u001b[0m: 'int' object has no attribute 'square'"
     ]
    }
   ],
   "source": [
    "a.square"
   ]
  },
  {
   "cell_type": "code",
   "execution_count": null,
   "metadata": {
    "id": "HBa75Mg-NTbO"
   },
   "outputs": [],
   "source": []
  },
  {
   "cell_type": "code",
   "execution_count": 32,
   "metadata": {
    "colab": {
     "base_uri": "https://localhost:8080/"
    },
    "id": "FpCc8LljNTd0",
    "outputId": "5031f034-8a60-44b9-adbb-90d5a43be659"
   },
   "outputs": [
    {
     "name": "stdout",
     "output_type": "stream",
     "text": [
      "Hello,how are youJanvi2\n"
     ]
    }
   ],
   "source": [
    "class person:\n",
    "  name=\"Prajakta\"\n",
    "  def say_hi(self):\n",
    "    self.name=\"Janvi\"\n",
    "    print(\"Hello,how are you\"+self.name +\"2\")\n",
    "\n",
    "p=person()\n",
    "\n",
    "p.say_hi\n",
    "person.say_hi(p)"
   ]
  },
  {
   "cell_type": "code",
   "execution_count": 33,
   "metadata": {
    "colab": {
     "base_uri": "https://localhost:8080/"
    },
    "id": "W0I4d3MWNTgK",
    "outputId": "2b7833a6-a6c4-4a35-dc9d-4d450350b008"
   },
   "outputs": [
    {
     "name": "stdout",
     "output_type": "stream",
     "text": [
      "Hello Everyone : I am Prajakta\n"
     ]
    }
   ],
   "source": [
    "class person:\n",
    "  name=\"Prajakta\"\n",
    "\n",
    "  def say_hi(this):\n",
    "    print(f\"Hello Everyone : I am {this.name}\" )\n",
    "\n",
    "p=person()\n",
    "\n",
    "p.say_hi #method cell\n",
    "person.say_hi(p) # function call"
   ]
  }
 ],
 "metadata": {
  "colab": {
   "authorship_tag": "ABX9TyOhr8aSz5WGzeaRBw18NS39",
   "include_colab_link": true,
   "provenance": []
  },
  "kernelspec": {
   "display_name": "Python 3 (ipykernel)",
   "language": "python",
   "name": "python3"
  },
  "language_info": {
   "codemirror_mode": {
    "name": "ipython",
    "version": 3
   },
   "file_extension": ".py",
   "mimetype": "text/x-python",
   "name": "python",
   "nbconvert_exporter": "python",
   "pygments_lexer": "ipython3",
   "version": "3.11.0"
  }
 },
 "nbformat": 4,
 "nbformat_minor": 1
}
